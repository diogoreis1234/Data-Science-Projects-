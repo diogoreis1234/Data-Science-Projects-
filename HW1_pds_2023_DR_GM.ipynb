{
 "cells": [
  {
   "cell_type": "markdown",
   "metadata": {},
   "source": [
    "# <span style=\"color:brown\"> Start Here </span> \n",
    "\n",
    "Student Name - Diogo Alexandre Mousinho dos Reis<br>\n",
    "Student id - 20230481<br>\n",
    "Contact e-mail - 20230481@novaims.unl.pt<br>\n",
    "\n",
    "Student Name - Guilherme Valler Moreira<br>\n",
    "Student id - 20230538<br>\n",
    "Contact e-mail - 20230538@novaims.unl.pt<br>"
   ]
  },
  {
   "cell_type": "markdown",
   "metadata": {},
   "source": [
    "# <span style=\"color:brown\"> Part 1 -  Variable Declaration and Manipulation </span> \n",
    "\n",
    "## Exercise I - of Lists and Random numbers\n",
    "\n",
    "**1**: Declare a variable X that stores a list of 100 integers randomly sampled between -100 and 100.<br>\n",
    "Note: You are not allowed to use third party libraries -- such as Numpy, Pandas, or Scipy -- in this exercise."
   ]
  },
  {
   "cell_type": "code",
   "execution_count": 76,
   "metadata": {},
   "outputs": [
    {
     "name": "stdout",
     "output_type": "stream",
     "text": [
      "[93, -98, -87, 17, -22, -66, -6, 39, -39, 3, -5, -15, -2, 73, -68, -51, -49, 79, -68, 14, -25, -89, 33, 52, 59, 23, 89, -68, -84, 55, 18, 70, 1, -61, 23, 20, 91, 22, 64, 45, -41, -38, -70, -91, 73, 73, -93, 36, 42, -90, -11, 53, -37, 68, 73, -49, 13, -37, -81, 78, -18, 22, 29, -8, -11, 52, 33, 63, -51, -89, 9, 51, 43, -69, -1, -80, -15, -41, -49, -99, -15, 92, 66, 90, -93, 75, 49, 82, 5, 11, -20, 35, -62, 72, 51, 44, -74, 36, -38, -22]\n"
     ]
    }
   ],
   "source": [
    "import random\n",
    "\n",
    "def random_list():\n",
    "    X = []\n",
    "\n",
    "    for i in range(100):\n",
    "        random_num = random.randint(-100, 100) # choose a random number between -100 and 100.\n",
    "        X.append(random_num)\n",
    "\n",
    "    return X\n",
    "\n",
    "X = random_list()\n",
    "print(X)"
   ]
  },
  {
   "cell_type": "markdown",
   "metadata": {},
   "source": [
    "**2**: How many odd numbers are in the list X?\n"
   ]
  },
  {
   "cell_type": "code",
   "execution_count": 77,
   "metadata": {},
   "outputs": [
    {
     "name": "stdout",
     "output_type": "stream",
     "text": [
      "60\n"
     ]
    }
   ],
   "source": [
    "odd_numbers = 0\n",
    "for num in X:\n",
    "    if num % 2 != 0: # if number is not divisible by 2 (is odd)\n",
    "        odd_numbers += 1\n",
    "\n",
    "print(odd_numbers)"
   ]
  },
  {
   "cell_type": "markdown",
   "metadata": {},
   "source": [
    "**2.1** Check if there are as many even numbers as there are odd numbers, else discard the list and generate a new one."
   ]
  },
  {
   "cell_type": "code",
   "execution_count": 78,
   "metadata": {},
   "outputs": [
    {
     "name": "stdout",
     "output_type": "stream",
     "text": [
      "There are 50 even numbers and 50 odd numbers in the list\n",
      "[-56, 27, 35, -5, 25, -78, 16, 28, 69, -32, 48, 31, 40, -70, -100, 82, 17, -65, -88, 26, -88, -52, 21, 82, 32, 98, -2, 30, 59, -31, 78, 79, -14, -88, -74, -73, -63, 52, 18, 48, -53, 14, 17, 31, -98, 29, 65, -10, -57, 52, -35, -50, -67, 76, 58, 11, -2, 2, 78, 21, 87, -26, 63, 9, -61, 60, 0, -11, -37, 87, -39, 23, 52, -77, 64, -97, 81, -29, 61, -79, -57, -39, -23, 13, -49, -16, 31, -53, -18, 42, 3, 89, 30, 10, -95, 68, -81, 54, 82, 92]\n"
     ]
    }
   ],
   "source": [
    "def count_even_odds(list: list, even: bool): # even = True -> count even numbers, even = False -> count odd numbers\n",
    "    even_numbers = 0\n",
    "    for num in list:\n",
    "        if num % 2 == 0: # if number is divisible by 2 (is even)\n",
    "            even_numbers += 1\n",
    "    if even:\n",
    "        return even_numbers\n",
    "    else:\n",
    "        return len(list) - even_numbers\n",
    "    \n",
    "while count_even_odds(X, True) != count_even_odds(X, False):    # while there are not the same number of even and odd numbers\n",
    "    X = random_list()                                           # create a new list of 100 random numbers between -100 and 100\n",
    "\n",
    "print('There are', count_even_odds(X, True), 'even numbers and', count_even_odds(X, False), 'odd numbers in the list')\n",
    "print(X)\n"
   ]
  },
  {
   "cell_type": "markdown",
   "metadata": {},
   "source": [
    "**2.2** Create a pipeline to automatically perform the tasks above such that you avoid having to run the cells multiple times to reach the desired outcome."
   ]
  },
  {
   "cell_type": "code",
   "execution_count": 79,
   "metadata": {},
   "outputs": [
    {
     "name": "stdout",
     "output_type": "stream",
     "text": [
      "There are 50 even numbers and 50 odd numbers in the list\n",
      "[82, 15, -86, 31, -49, -63, 63, -55, 100, 78, 54, -77, 94, -16, 33, -64, 75, -80, -13, 11, 26, -28, -80, -99, -69, 18, 100, -99, 24, -83, -71, 7, 23, 45, -43, -20, 58, 54, 30, -84, 46, -97, -32, -62, -46, -48, -98, -27, 75, 51, 12, 43, -12, -43, 15, 68, -79, 39, -37, 83, -94, 17, 78, -18, -92, -47, 78, -69, -34, -98, -87, -29, 25, -83, -33, -98, -82, -94, 37, -42, -74, -66, -32, -75, -62, 99, -21, 44, 22, 35, 71, 72, -14, 41, 27, -22, -11, 21, -29, -24]\n"
     ]
    }
   ],
   "source": [
    "import random\n",
    "\n",
    "def random_list():\n",
    "    X = []\n",
    "\n",
    "    for i in range(100):\n",
    "        random_num = random.randint(-100, 100) # choose a random number between -100 and 100.\n",
    "        X.append(random_num)\n",
    "\n",
    "    return X\n",
    "\n",
    "def count_even_odds(list: list, even: bool): # even = True -> count even numbers, even = False -> count odd numbers\n",
    "    even_numbers = 0\n",
    "    for num in list:\n",
    "        if num % 2 == 0: # if number is divisible by 2 (is even)\n",
    "            even_numbers += 1\n",
    "    if even:\n",
    "        return even_numbers\n",
    "    else:\n",
    "        return len(list) - even_numbers\n",
    "\n",
    "X = random_list()\n",
    "\n",
    "# the condition for the while loop was done this way so it works for any list with even length\n",
    "while count_even_odds(X, True) != count_even_odds(X, False): # while there are not the same number of even and odd numbers\n",
    "    X = random_list()\n",
    "\n",
    "print('There are', count_even_odds(X, True), 'even numbers and', count_even_odds(X, False), 'odd numbers in the list')\n",
    "print(X)"
   ]
  },
  {
   "cell_type": "markdown",
   "metadata": {},
   "source": [
    "**3**: Print the number of digits that the 5th and 100th element of the list have. <br>\n",
    "*Note: For instance, the number 1 contains one digit, the number 10 contains two digits, the number -2 contains one digit.*"
   ]
  },
  {
   "cell_type": "code",
   "execution_count": 80,
   "metadata": {},
   "outputs": [
    {
     "name": "stdout",
     "output_type": "stream",
     "text": [
      "The 5th element is -49 and has 2 digits\n",
      "The 100th element is -24 and has 2 digits\n"
     ]
    }
   ],
   "source": [
    "fifth = X[4]        # indexes start at 0, so the 5th element is at index 4\n",
    "hundredth = X[99]   # indexes start at 0, so the 100th element is at index 99\n",
    "\n",
    "# abs() - absolute value of number (ex.: abs(-5) = 5)\n",
    "# str() - converts number to string (ex.: str(5) = '5')\n",
    "# len() - length of string (ex.: len('5') = 1)\n",
    "fifth_digits = len(str(abs(fifth)))\n",
    "hundredth_digits = len(str(abs(hundredth)))\n",
    "\n",
    "print('The 5th element is', fifth, 'and has', fifth_digits, 'digits')\n",
    "print('The 100th element is', hundredth, 'and has', hundredth_digits, 'digits')"
   ]
  },
  {
   "cell_type": "markdown",
   "metadata": {},
   "source": [
    "**4**: Is the sum total of all the numbers in the list even or odd?"
   ]
  },
  {
   "cell_type": "code",
   "execution_count": 81,
   "metadata": {},
   "outputs": [
    {
     "name": "stdout",
     "output_type": "stream",
     "text": [
      "The sum total of all the numbers in the list is -1070 (even).\n"
     ]
    }
   ],
   "source": [
    "# sum() - sum of all elements in list (ex.: sum([1, 2, 3]) = 6)\n",
    "sum_total = sum(X)\n",
    "\n",
    "if sum_total % 2 == 0: # if number is divisible by 2 (is even)\n",
    "    print('The sum total of all the numbers in the list is', sum_total, '(even).')\n",
    "else:\n",
    "    print('The sum total of all the numbers in the list is', sum_total, '(odd).')"
   ]
  },
  {
   "cell_type": "markdown",
   "metadata": {},
   "source": [
    "**5**: What is the average of the list X?"
   ]
  },
  {
   "cell_type": "code",
   "execution_count": 82,
   "metadata": {},
   "outputs": [
    {
     "name": "stdout",
     "output_type": "stream",
     "text": [
      "Average: -10.7\n"
     ]
    }
   ],
   "source": [
    "average = sum_total / len(X) # sum of all elements / number of elements\n",
    "print('Average:', average)\n"
   ]
  },
  {
   "cell_type": "markdown",
   "metadata": {},
   "source": [
    "**5.1.** What is the population standard deviation? <br>"
   ]
  },
  {
   "cell_type": "code",
   "execution_count": 83,
   "metadata": {},
   "outputs": [
    {
     "name": "stdout",
     "output_type": "stream",
     "text": [
      "Standard deviation: 59.138566096921906\n"
     ]
    }
   ],
   "source": [
    "squared_sum = 0\n",
    "\n",
    "for x in X:\n",
    "    squared_diff = (x - average) ** 2\n",
    "    squared_sum += squared_diff\n",
    "\n",
    "print('Standard deviation:', (squared_sum / len(X)) ** 0.5)\n"
   ]
  },
  {
   "cell_type": "markdown",
   "metadata": {},
   "source": [
    "**6**: Sort list X in descending order and store the result in variable Xsort. <br>"
   ]
  },
  {
   "cell_type": "code",
   "execution_count": 84,
   "metadata": {},
   "outputs": [
    {
     "name": "stdout",
     "output_type": "stream",
     "text": [
      "[100, 100, 99, 94, 83, 82, 78, 78, 78, 75, 75, 72, 71, 68, 63, 58, 54, 54, 51, 46, 45, 44, 43, 41, 39, 37, 35, 33, 31, 30, 27, 26, 25, 24, 23, 22, 21, 18, 17, 15, 15, 12, 11, 7, -11, -12, -13, -14, -16, -18, -20, -21, -22, -24, -27, -28, -29, -29, -32, -32, -33, -34, -37, -42, -43, -43, -46, -47, -48, -49, -55, -62, -62, -63, -64, -66, -69, -69, -71, -74, -75, -77, -79, -80, -80, -82, -83, -83, -84, -86, -87, -92, -94, -94, -97, -98, -98, -98, -99, -99]\n"
     ]
    }
   ],
   "source": [
    "# sorted(reverse = True) - sorts list in descending order (ex.: sorted([2, 3, 1]) = [3, 2, 1])\n",
    "Xsort = sorted(X, reverse = True)\n",
    "print(Xsort)"
   ]
  },
  {
   "cell_type": "markdown",
   "metadata": {},
   "source": [
    "**6.1** Then replace each value in Xsort with index i as the sum of the values with index i-1 and i. <br> \n",
    "\n",
    "*Note: Consider that Xsort[-1] = 0.*"
   ]
  },
  {
   "cell_type": "code",
   "execution_count": 85,
   "metadata": {},
   "outputs": [
    {
     "name": "stdout",
     "output_type": "stream",
     "text": [
      "[100, 200, 299, 393, 476, 558, 636, 714, 792, 867, 942, 1014, 1085, 1153, 1216, 1274, 1328, 1382, 1433, 1479, 1524, 1568, 1611, 1652, 1691, 1728, 1763, 1796, 1827, 1857, 1884, 1910, 1935, 1959, 1982, 2004, 2025, 2043, 2060, 2075, 2090, 2102, 2113, 2120, 2109, 2097, 2084, 2070, 2054, 2036, 2016, 1995, 1973, 1949, 1922, 1894, 1865, 1836, 1804, 1772, 1739, 1705, 1668, 1626, 1583, 1540, 1494, 1447, 1399, 1350, 1295, 1233, 1171, 1108, 1044, 978, 909, 840, 769, 695, 620, 543, 464, 384, 304, 222, 139, 56, -28, -114, -201, -293, -387, -481, -578, -676, -774, -872, -971, -1070]\n"
     ]
    }
   ],
   "source": [
    "# enumerate() - creates a list of lists, where the first element is the index and the second is the value\n",
    "# example: enumerate([3,4,5]) = [[0,3], [1,4], [2,5]]\n",
    "for index, previous_value in enumerate(Xsort):\n",
    "    if index == 0:                                      # if first element of list, skip to new iteration\n",
    "        continue\n",
    "    Xsort[index] = previous_value + Xsort[index - 1]    # add current element with element from previous index\n",
    "\n",
    "print(Xsort)"
   ]
  },
  {
   "cell_type": "markdown",
   "metadata": {},
   "source": [
    "## Exercise II - we have a gamer in the room\n",
    "\n",
    "**7**: Consider the dictionaries  *purchases* and *clients* that are declared in the cell below. <br>\n",
    "Create a list with the names of the clients who bought more than one videogame. Print the List. <br>"
   ]
  },
  {
   "cell_type": "code",
   "execution_count": 86,
   "metadata": {},
   "outputs": [],
   "source": [
    "purchases = {\n",
    "    \n",
    "    \"1539\":\"Red dead redemption II\",\n",
    "    \"9843\":\"GTA V,FarCry 5, watchdogs II\",\n",
    "    \"8472\":\"Canis Canem Edit\",\n",
    "    \"3874\":\"Watchdogs II,South Park: The Stick of Truth\",\n",
    "    \"5783\":\"AC: The Ezio Collection, watchdogs ii\",\n",
    "    \"9823\":\"For Honor,The Forest,South Park: The Fractured but whole\"\n",
    "    \n",
    "}"
   ]
  },
  {
   "cell_type": "code",
   "execution_count": 87,
   "metadata": {},
   "outputs": [],
   "source": [
    "clients = {\n",
    "    \n",
    "    \"1539\":\"Rick Sanchez\",\n",
    "    \"9843\":\"Morty Smith\",\n",
    "    \"8472\":\"Eve Polastri\",\n",
    "    \"3874\":\"Mildred Ratched\",\n",
    "    \"5783\":\"Alex Vause\",\n",
    "    \"9823\":\"Sheldon Cooper\"\n",
    "    \n",
    "}"
   ]
  },
  {
   "cell_type": "code",
   "execution_count": 88,
   "metadata": {},
   "outputs": [
    {
     "name": "stdout",
     "output_type": "stream",
     "text": [
      "['Morty Smith', 'Mildred Ratched', 'Alex Vause', 'Sheldon Cooper']\n"
     ]
    }
   ],
   "source": [
    "multiple_purchase_clients = []\n",
    "\n",
    "for client_id, client_purchases in purchases.items():           # for each client id and their purchases\n",
    "    if len(client_purchases.split(',')) > 1:                    # if the client has more than 1 purchase\n",
    "        multiple_purchase_clients.append(clients[client_id])    # add the client name to the list according to its' client_id\n",
    "\n",
    "print(multiple_purchase_clients)"
   ]
  },
  {
   "cell_type": "markdown",
   "metadata": {},
   "source": [
    "**7.1** What is the name of the client that bought more videogames?\n",
    "\n",
    "*Tip: You will want to check the methods associated with string manipulation. See the link: <br>\n",
    "https://python-reference.readthedocs.io/en/latest/docs/unicode/index.html*"
   ]
  },
  {
   "cell_type": "code",
   "execution_count": 89,
   "metadata": {},
   "outputs": [
    {
     "name": "stdout",
     "output_type": "stream",
     "text": [
      "['Morty Smith', 'Sheldon Cooper']\n"
     ]
    }
   ],
   "source": [
    "multiple_purchase_clients_2 = []\n",
    "\n",
    "for client_id, client_purchases in purchases.items():                           # for each client id and their purchases\n",
    "    purchasesCount = len(client_purchases.split(','))                           # count the number of purchases by splitting the string by comma\n",
    "    multiple_purchase_clients_2.append((clients[client_id], purchasesCount))    # add the client name and number of purchases to the list according to its' client_id\n",
    "\n",
    "maxCount = 0\n",
    "finalName = []\n",
    "for client_name, client_purchases_count in multiple_purchase_clients_2:         # for each client name and number of purchases\n",
    "    if client_purchases_count > maxCount:                                       # if the number of purchases is greater than the current max\n",
    "        maxCount = client_purchases_count                                       # set the new max\n",
    "        finalName = [client_name]                                               # set the new client name\n",
    "    elif client_purchases_count == maxCount:                                    # if the number of purchases is equal to the current max\n",
    "        finalName.append(client_name)                                           # add the client name to the list of clients with the most purchases\n",
    "\n",
    "if len(finalName) == 1:                                                        # if there is only one client with the most purchases\n",
    "    print(finalName[0])                                                        # print the client name\n",
    "else:\n",
    "    print(finalName)"
   ]
  },
  {
   "cell_type": "markdown",
   "metadata": {},
   "source": [
    "**7.2** What is the name of the most popular videogame?"
   ]
  },
  {
   "cell_type": "code",
   "execution_count": 90,
   "metadata": {},
   "outputs": [
    {
     "name": "stdout",
     "output_type": "stream",
     "text": [
      "WATCHDOGS II\n"
     ]
    }
   ],
   "source": [
    "videogameDict = {}\n",
    "\n",
    "for client_purchases in purchases.values():             # for each client's purchases\n",
    "    splittedList = client_purchases.split(',')          # split the string by comma\n",
    "    for item in splittedList:                           # for each item in the list created by the client's purchases\n",
    "        currItem = item.strip()                         # remove white spaces from start and end of string\n",
    "        # we are using .upper() to normalize all values (ex.: 'watchdogs ii' = 'WatchDogs II')\n",
    "        if currItem.upper() in videogameDict.keys():    # if the item is already in the dictionary\n",
    "            videogameDict[currItem.upper()] += 1        # add 1 to the count of the item\n",
    "        else:\n",
    "            videogameDict[currItem.upper()] = 1         # add the item to the dictionary with a count of 1\n",
    "\n",
    "maxPurchases = 0\n",
    "mostPopular = []\n",
    "for game_name, game_purchases in videogameDict.items(): # for each game name and number of purchases\n",
    "    if game_purchases > maxPurchases:                   # if the number of purchases is greater than the current max\n",
    "        maxPurchases = game_purchases                   # set the new max\n",
    "        mostPopular = [game_name]                       # set the new game name\n",
    "    elif game_purchases == maxPurchases:                # if the number of purchases is equal to the current max\n",
    "        mostPopular.append(game_name)                   # add the game name to the list of most popular games\n",
    "\n",
    "if len(mostPopular) == 1:                               # if there is only one most popular game\n",
    "    print(mostPopular[0])                               # print the game name\n",
    "else:\n",
    "    print(mostPopular)"
   ]
  },
  {
   "cell_type": "markdown",
   "metadata": {},
   "source": [
    "# <span style=\"color:brown\"> Part 2 -  Data loading and analysis  </span>\n",
    "\n",
    "## Exercise I - Alice what do you have to say?\n",
    "\n",
    "**8**: Load the Alice text file into a variable called Alice. <br>\n",
    "\n",
    "*Note: Use a relative filepath in relation to the location of your notebook.*"
   ]
  },
  {
   "cell_type": "code",
   "execution_count": 91,
   "metadata": {},
   "outputs": [
    {
     "name": "stdout",
     "output_type": "stream",
     "text": [
      "Alice was beginning to get very tired of sitting by her sister on the bank, and of having nothing to do: once or twice she had peeped into the book her sister was reading, but it had no pictures or conversations in it, <<and what is the use of a book>>. thought Alice <<without pictures or conversation?>>.\n"
     ]
    }
   ],
   "source": [
    "# \"./\" is used to signalize we should start from the same location as the notebook\n",
    "# \"r\" means the file has read-only permissions (cannot modify the file)\n",
    "# .read() - reads text from file\n",
    "Alice = open(\"./alice.txt\", \"r\").read()\n",
    "print(Alice)"
   ]
  },
  {
   "cell_type": "markdown",
   "metadata": {},
   "source": [
    "**9**: Create a list in which each element is a word from the file *Alice*. Store that list in a variable called *wAlice*. <br>\n",
    "\n",
    "*Note: You will need to do some text parsing here. In particular to split the sentences into words. It is also a good practice to normalize words so that words \"Hello\" and \"hello\" become identical, by making all letters lower case. <br>*\n",
    "\n",
    "*Tip: check the following links for a discussion on regular expressions. Also consult the methods available for string manipulation.*\n",
    "\n",
    "https://docs.python.org/3/library/re.html\n",
    "\n",
    "https://stackoverflow.com/questions/1276764/stripping-everything-but-alphanumeric-chars-from-a-string-in-python"
   ]
  },
  {
   "cell_type": "code",
   "execution_count": 92,
   "metadata": {},
   "outputs": [
    {
     "name": "stdout",
     "output_type": "stream",
     "text": [
      "['alice', 'was', 'beginning', 'to', 'get', 'very', 'tired', 'of', 'sitting', 'by', 'her', 'sister', 'on', 'the', 'bank', 'and', 'of', 'having', 'nothing', 'to', 'do', 'once', 'or', 'twice', 'she', 'had', 'peeped', 'into', 'the', 'book', 'her', 'sister', 'was', 'reading', 'but', 'it', 'had', 'no', 'pictures', 'or', 'conversations', 'in', 'it', 'and', 'what', 'is', 'the', 'use', 'of', 'a', 'book', 'thought', 'alice', 'without', 'pictures', 'or', 'conversation']\n"
     ]
    }
   ],
   "source": [
    "import re\n",
    "\n",
    "wAlice = []\n",
    "\n",
    "for word in Alice.split(' '):  # split string with \"alice.txt\" text by spaces into a list\n",
    "    # \\W is all non-word characters (everything except a-z, A-Z, 0-9)\n",
    "    # .lower() transforms all letters into lowercase (ex.: 'HeLLo'.lower() = 'hello')\n",
    "    wAlice.append(re.sub(r'\\W+', '', word.lower()))  # substitutes all non-word characters into empty string (same as removing them)\n",
    "\n",
    "wAlice = [word for word in wAlice if word != ''] # remove any empty strings\n",
    "\n",
    "print(wAlice)"
   ]
  },
  {
   "cell_type": "markdown",
   "metadata": {},
   "source": [
    "##### Using the list *wAlice* answer the following questions:<br>\n",
    "**10**: How many words are in the file Alice.txt? <br>"
   ]
  },
  {
   "cell_type": "code",
   "execution_count": 93,
   "metadata": {},
   "outputs": [
    {
     "data": {
      "text/plain": [
       "57"
      ]
     },
     "execution_count": 93,
     "metadata": {},
     "output_type": "execute_result"
    }
   ],
   "source": [
    "# len() - length of list (ex.: len([1,2,3]) = 3)\n",
    "len(wAlice)"
   ]
  },
  {
   "cell_type": "markdown",
   "metadata": {},
   "source": [
    "**11**: What is the longest and smallest word in the text file?\n",
    "\n",
    "*Note: Length in this case is measured in terms of the number of characters.*"
   ]
  },
  {
   "cell_type": "code",
   "execution_count": 94,
   "metadata": {},
   "outputs": [
    {
     "name": "stdout",
     "output_type": "stream",
     "text": [
      "Longest: conversations\n",
      "Shortest: a\n"
     ]
    }
   ],
   "source": [
    "wAlice.sort(key=len, reverse=True)  # sort list wAlice by length of items in descending order\n",
    "print('Longest:', wAlice[0])        # as list is sorted by length, the longest word will be the first one\n",
    "print('Shortest:', wAlice[-1])      # as list is sorted by length, the shortest word will be the last one"
   ]
  },
  {
   "cell_type": "markdown",
   "metadata": {},
   "source": [
    "**12**: Delete all the repeated words from *wAlice*. "
   ]
  },
  {
   "cell_type": "code",
   "execution_count": 95,
   "metadata": {},
   "outputs": [
    {
     "name": "stdout",
     "output_type": "stream",
     "text": [
      "['nothing', 'pictures', 'sister', 'had', 'what', 'alice', 'sitting', 'use', 'very', 'to', 'was', 'but', 'in', 'on', 'do', 'beginning', 'book', 'no', 'without', 'get', 'conversations', 'of', 'reading', 'by', 'bank', 'the', 'and', 'or', 'a', 'thought', 'tired', 'twice', 'conversation', 'peeped', 'it', 'is', 'having', 'she', 'into', 'once', 'her']\n"
     ]
    }
   ],
   "source": [
    "# list() - convert iterable object into a list\n",
    "# set() - convert iterable object into a set\n",
    "# we are converting wAlice into a set and back to a list because sets do not have duplicated items, \n",
    "# which will remove all repeated words\n",
    "wAlice = list(set(wAlice)) \n",
    "\n",
    "print(wAlice)"
   ]
  },
  {
   "cell_type": "markdown",
   "metadata": {},
   "source": [
    "**12.1**:How many different words does the text contain?"
   ]
  },
  {
   "cell_type": "code",
   "execution_count": 96,
   "metadata": {},
   "outputs": [
    {
     "data": {
      "text/plain": [
       "41"
      ]
     },
     "execution_count": 96,
     "metadata": {},
     "output_type": "execute_result"
    }
   ],
   "source": [
    "# len() - length of list (ex.: len([1,2,3]) = 3)\n",
    "len(wAlice)"
   ]
  },
  {
   "cell_type": "markdown",
   "metadata": {},
   "source": [
    "## Exercise II - of Countries I Love\n",
    "\n",
    "Consider the list countries in the cell below. <br>\n",
    "It consists of a list of the 3-digit ISO codes of a set of countries of interest."
   ]
  },
  {
   "cell_type": "code",
   "execution_count": 97,
   "metadata": {},
   "outputs": [],
   "source": [
    "countries = [\n",
    "\n",
    "('PRT','Portugal','Europe'),\n",
    "('ISL','Israel','Asia'),\n",
    "('COL','Colombia','South America'),\n",
    "('NEV','Nevada','North America'),\n",
    "('JPN','Japan','Asia'),\n",
    "('RUS','Russia','well... which part?'),\n",
    "('DEN','Denmark','Europe'),\n",
    "('NOR','Norway','Europe')\n",
    "    \n",
    "]"
   ]
  },
  {
   "cell_type": "markdown",
   "metadata": {},
   "source": [
    "**Now consider the file *cdata.csv* that you should download.** <br>\n",
    "\n",
    "The file contains several information about countries, and is organized as follows:\n",
    "1. Column 1 is the 3-digit **ISO Code**\n",
    "2. Column 2 is the **Full Name** of the country\n",
    "3. Column 3 is the **Continent** of the country\n",
    "4. Column 4 is the **Population Size** in 2010\n",
    "5. Column 5 is the **GDP per capita** in 2010"
   ]
  },
  {
   "cell_type": "markdown",
   "metadata": {},
   "source": [
    "**13**: Using the Library CSV from Python STL, load the file *cdata.csv* into an object called *raw*. "
   ]
  },
  {
   "cell_type": "code",
   "execution_count": 98,
   "metadata": {},
   "outputs": [
    {
     "name": "stdout",
     "output_type": "stream",
     "text": [
      "[['ago', 'Angola', 'Africa', '23.369131088256836', '5988.534997149481'], ['bdi', 'Burundi', 'Africa', '8.766929626464844', '731.4232803265862'], ['ben', 'Benin', 'Africa', '9.199258804321289', '1919.9969479963038'], ['bfa', 'Burkina Faso', 'Africa', '15.605216979980469', '1327.2165314775982'], ['bwa', 'Botswana', 'Africa', '2.0148661136627197', '12256.14159052444'], ['caf', 'Central African Republic', 'Africa', '4.4485249519348145', '865.4421867263901'], ['cmr', 'Cameroon', 'Africa', '19.970495223999023', '2684.972890247272'], ['cod', 'Democratic Republic of the Congo', 'Africa', '64.52326202392578', '634.9713963013496'], ['cog', 'Republic of the Congo', 'Africa', '4.386693000793457', '4979.990496069269'], ['com', 'Comoros', 'Africa', '0.6896920204162598', '2292.997969425929'], ['cpv', 'Cape Verde', 'Africa', '0.5023840069770813', '5644.821253339075'], ['dji', 'Djibouti', 'Africa', '0.8511459827423096', '2124.4420625972525'], ['dza', 'Algeria', 'Africa', '36.117637634277344', '12590.224223813591'], ['egy', 'Egypt', 'Africa', '84.10760498046875', '9148.839753298033'], ['eth', 'Ethiopia', 'Africa', '87.70266723632812', '1100.1831875876223'], ['gab', 'Gabon', 'Africa', '1.6402100324630737', '11961.168226448879'], ['gha', 'Ghana', 'Africa', '24.512104034423828', '3931.2918319728856'], ['gin', 'Guinea', 'Africa', '10.794170379638672', '1742.7346742167783'], ['gmb', 'Gambia', 'Africa', '1.692149043083191', '2681.8586168502143'], ['gnb', 'Guinea-Bissau', 'Africa', '1.5558799505233765', '1387.2497310879905'], ['gnq', 'Equatorial Guinea', 'Africa', '0.9511039853096008', '31416.887137501908'], ['ken', 'Kenya', 'Africa', '41.35015106201172', '2484.0349094725366'], ['lbr', 'Liberia', 'Africa', '3.948124885559082', '786.6702306741524'], ['lso', 'Lesotho', 'Africa', '2.040550947189331', '2432.7976546880823'], ['mar', 'Morocco', 'Africa', '32.409637451171875', '6421.937677907418'], ['mdg', 'Madagascar', 'Africa', '21.151639938354492', '1459.9156124535612'], ['mli', 'Mali', 'Africa', '15.075084686279297', '1873.2809618195865'], ['moz', 'Mozambique', 'Africa', '24.221405029296875', '969.2307622526259'], ['mrt', 'Mauritania', 'Africa', '3.6095430850982666', '3082.647028528842'], ['mus', 'Mauritius', 'Africa', '1.2479549646377563', '15178.325920597827'], ['mwi', 'Malawi', 'Africa', '15.167095184326172', '972.0456815116237'], ['nam', 'Namibia', 'Africa', '2.1731700897216797', '7689.171239820006'], ['ner', 'Niger', 'Africa', '16.42557716369629', '845.8693682212395'], ['nga', 'Nigeria', 'Africa', '158.57826232910156', '5186.304307542348'], ['rwa', 'Rwanda', 'Africa', '10.246842384338379', '1379.6993252327009'], ['sdn', 'Sudan', 'Africa', '34.385963439941406', '3608.7856176907358'], ['sen', 'Senegal', 'Africa', '12.916229248046875', '2741.121456198507'], ['sle', 'Sierra Leone', 'Africa', '6.4587202072143555', '1161.8796942144647'], ['swz', 'Swaziland', 'Africa', '1.2028429508209229', '7042.524359035093'], ['syc', 'Seychelles', 'Africa', '0.0914049968123436', '17960.353075613308'], ['tcd', 'Chad', 'Africa', '11.887202262878418', '1880.3748762799714'], ['tgo', 'Togo', 'Africa', '6.5029520988464355', '1222.8150529133295'], ['tun', 'Tunisia', 'Africa', '10.639930725097656', '10647.834980284626'], ['tza', 'Tanzania', 'Africa', '44.82893753051758', '1979.1718644815185'], ['uga', 'Uganda', 'Africa', '33.91513442993164', '1723.5943355766267'], ['zaf', 'South Africa', 'Africa', '51.58466339111328', '11388.640515995063'], ['zmb', 'Zambia', 'Africa', '13.850032806396484', '2870.8872656342314'], ['zwe', 'Zimbabwe', 'Africa', '14.08631706237793', '1479.0305839163732'], ['are', 'United Arab Emirates', 'Asia', '8.270684242248535', '59707.412565389604'], ['arm', 'Armenia', 'Asia', '2.8773109912872314', '8222.945234202914'], ['aze', 'Azerbaijan', 'Asia', '9.03245735168457', '12947.102198682365'], ['bgd', 'Bangladesh', 'Asia', '152.14910888671875', '2411.1020691099325'], ['bhr', 'Bahrain', 'Asia', '1.2408620119094849', '37045.81310919623'], ['brn', 'Brunei', 'Asia', '0.3886620104312897', '67320.89957245934'], ['btn', 'Bhutan', 'Asia', '0.7276409864425659', '7235.18974818538'], ['chn', 'China', 'Asia', '1359.755126953125', '9337.290772677254'], ['cyp', 'Cyprus', 'Asia', '0.829446017742157', '28046.373877741087'], ['geo', 'Georgia', 'Asia', '4.231660842895508', '7966.602756952667'], ['hkg', 'Hong Kong', 'Asia', '7.02522087097168', '41687.946418899235'], ['ind', 'India', 'Asia', '1230.980712890625', '4357.0597360582315'], ['irn', 'Iran', 'Asia', '74.56751251220703', '17328.457882894658'], ['irq', 'Iraq', 'Asia', '30.7627010345459', '9344.543768350652'], ['isr', 'Israel', 'Asia', '7.42595911026001', '28638.9037385305'], ['jor', 'Jordan', 'Asia', '7.182390213012695', '9351.387283068141'], ['jpn', 'Japan', 'Asia', '128.5518798828125', '36595.63364058582'], ['kaz', 'Kazakhstan', 'Asia', '16.398975372314453', '17908.83993251286'], ['kgz', 'Kyrgyzstan', 'Asia', '5.422337055206299', '3382.4639059259293'], ['khm', 'Cambodia', 'Asia', '14.30873966217041', '2330.127207632253'], ['kor', 'South Korea', 'Asia', '49.5528564453125', '31589.705161145695'], ['kwt', 'Kuwait', 'Asia', '2.9980831146240234', '67029.51680017101'], ['lao', 'Laos', 'Asia', '6.246273994445801', '4316.969858587265'], ['lbn', 'Lebanon', 'Asia', '4.337141036987305', '18025.24893894264'], ['lka', 'Sri Lanka', 'Asia', '20.198352813720703', '8390.429701766443'], ['mac', 'Macau', 'Asia', '0.536969006061554', '91982.39517540816'], ['mdv', 'Maldives', 'Asia', '0.36451101303100586', '12140.803390739566'], ['mmr', 'Burma', 'Asia', '50.1558952331543', '3422.241340266976'], ['mng', 'Mongolia', 'Asia', '2.7126500606536865', '7670.714034382584'], ['mys', 'Malaysia', 'Asia', '28.112289428710938', '17913.164410782432'], ['npl', 'Nepal', 'Asia', '27.023136138916016', '1996.1961554516242'], ['omn', 'Oman', 'Asia', '3.0414600372314453', '40472.674942509126'], ['pak', 'Pakistan', 'Asia', '170.5601806640625', '4171.416562353057'], ['phl', 'Philippines', 'Asia', '93.72662353515625', '5391.233965240031'], ['qat', 'Qatar', 'Asia', '1.7796759605407715', '123128.40152283433'], ['sau', 'Saudi Arabia', 'Asia', '27.425676345825195', '42331.65885721999'], ['sgp', 'Singapore', 'Asia', '5.074252128601074', '58618.43503468222'], ['syr', 'Syria', 'Asia', '21.01883316040039', '5700.329438992399'], ['tha', 'Thailand', 'Asia', '67.20880889892578', '12496.244186726299'], ['tjk', 'Tajikistan', 'Asia', '7.641630172729492', '2784.5145587763627'], ['tkm', 'Turkmenistan', 'Asia', '5.087210178375244', '16061.429412691556'], ['tur', 'Turkey', 'Asia', '72.32691192626953', '17930.678781392427'], ['twn', 'Taiwan', 'Asia', '23.140947341918945', '37188.89452901009'], ['uzb', 'Uzbekistan', 'Asia', '28.606294631958008', '6574.51672506692'], ['vnm', 'Vietnam', 'Asia', '88.4725112915039', '4428.42140209062'], ['yem', 'Yemen', 'Asia', '23.606779098510742', '4553.557258443674'], ['alb', 'Albania', 'Europe', '2.9405250549316406', '9544.73991912729'], ['aut', 'Austria', 'Europe', '8.40994930267334', '40489.80635849457'], ['bel', 'Belgium', 'Europe', '10.938738822937012', '38177.94724875522'], ['bgr', 'Bulgaria', 'Europe', '7.404590129852295', '14906.784964031736'], ['bih', 'Bosnia and Herzegovina', 'Europe', '3.7220840454101562', '9049.364732987471'], ['blr', 'Belarus', 'Europe', '9.473071098327637', '16457.02937904922'], ['che', 'Switzerland', 'Europe', '7.831971168518066', '55688.020214268225'], ['cze', 'Czech Republic', 'Europe', '10.536286354064941', '26129.56935189834'], ['deu', 'Germany', 'Europe', '80.89478302001953', '40627.23054942445'], ['dnk', 'Denmark', 'Europe', '5.554843902587891', '43416.22338615916'], ['esp', 'Spain', 'Europe', '46.788631439208984', '31610.980157042286'], ['est', 'Estonia', 'Europe', '1.3321019411087036', '20265.572596704937'], ['fin', 'Finland', 'Europe', '5.365781784057617', '38394.06158150017'], ['fra', 'France', 'Europe', '65.14578247070312', '35786.16161450548'], ['gbr', 'United Kingdom', 'Europe', '63.30684280395508', '34810.28120173958'], ['grc', 'Greece', 'Europe', '11.446004867553711', '25815.80076797162'], ['hrv', 'Croatia', 'Europe', '4.328153133392334', '19305.008088868373'], ['hun', 'Hungary', 'Europe', '9.927840232849121', '20477.79856764035'], ['irl', 'Ireland', 'Europe', '4.626927852630615', '47823.50815113634'], ['isl', 'Iceland', 'Europe', '0.3203279972076416', '37729.01607603124'], ['ita', 'Italy', 'Europe', '59.72980880737305', '34727.67268834705'], ['ltu', 'Lithuania', 'Europe', '3.123802900314331', '18475.371145517096'], ['lux', 'Luxembourg', 'Europe', '0.5078889727592468', '57882.81020537233'], ['lva', 'Latvia', 'Europe', '2.1188480854034424', '16943.688322829523'], ['mda', 'Moldova', 'Europe', '4.0844807624816895', '4173.634753274572'], ['mkd', 'Macedonia', 'Europe', '2.0707390308380127', '11265.643175619889'], ['mlt', 'Malta', 'Europe', '0.41611000895500183', '22983.44992639125'], ['mne', 'Montenegro', 'Europe', '0.6242849826812744', '14960.94855221103'], ['nld', 'Netherlands', 'Europe', '16.68291664123535', '44004.146024770846'], ['nor', 'Norway', 'Europe', '4.885878086090088', '73262.68174170727'], ['pol', 'Poland', 'Europe', '38.323402404785156', '21006.027309294514'], ['prt', 'Portugal', 'Europe', '10.652320861816406', '25788.2739652247'], ['rou', 'Romania', 'Europe', '20.44034767150879', '16775.609043478133'], ['rus', 'Russia', 'Asia', '143.15386962890625', '21754.067899615977'], ['srb', 'Serbia', 'Europe', '7.291436195373535', '12453.482551916944'], ['svk', 'Slovakia', 'Europe', '5.404294013977051', '23061.12099058148'], ['svn', 'Slovenia', 'Europe', '2.045167922973633', '25831.33128718208'], ['swe', 'Sweden', 'Europe', '9.390168190002441', '40421.906436576974'], ['ukr', 'Ukraine', 'Europe', '45.79249954223633', '8713.259627419637'], ['abw', 'Aruba', 'NorthAmerica', '0.10166899859905243', '37059.34143869512'], ['aia', 'Anguilla', 'NorthAmerica', '0.013768999837338924', '21098.057152999143'], ['atg', 'Antigua and Barbuda', 'NorthAmerica', '0.09466099739074707', '17162.16102781353'], ['bhs', 'Bahamas', 'NorthAmerica', '0.36083200573921204', '29504.581346144332'], ['blz', 'Belize', 'NorthAmerica', '0.3216080069541931', '7145.952547655193'], ['bmu', 'Bermuda', 'NorthAmerica', '0.06395599991083145', '51447.147481910884'], ['brb', 'Barbados', 'NorthAmerica', '0.27956900000572205', '13995.612896540895'], ['can', 'Canada', 'NorthAmerica', '34.16866683959961', '40269.03526728651'], ['cri', 'Costa Rica', 'NorthAmerica', '4.5452799797058105', '12106.99191566891'], ['cuw', 'Curaçao', 'NorthAmerica', '0.14760799705982208', '24337.816177887613'], ['cym', 'Cayman Islands', 'NorthAmerica', '0.05550700053572655', '36670.678481483985'], ['dma', 'Dominica', 'NorthAmerica', '0.07143999636173248', '9101.993729581038'], ['dom', 'Dominican Republic', 'NorthAmerica', '9.897985458374023', '11500.13134401987'], ['grd', 'Grenada', 'NorthAmerica', '0.1046769991517067', '9791.291133092265'], ['gtm', 'Guatemala', 'NorthAmerica', '14.630416870117188', '6359.262684615136'], ['hnd', 'Honduras', 'NorthAmerica', '8.194778442382812', '3789.9102248753848'], ['hti', 'Haiti', 'NorthAmerica', '9.999616622924805', '1650.2697128700804'], ['jam', 'Jamaica', 'NorthAmerica', '2.8172099590301514', '6675.176956450172'], ['kna', 'Saint Kitts and Nevis', 'NorthAmerica', '0.05144499987363815', '17837.349758162076'], ['lca', 'Saint Lucia', 'NorthAmerica', '0.17258000373840332', '9178.266990673521'], ['mex', 'Mexico', 'NorthAmerica', '117.31893920898438', '14507.011923865603'], ['msr', 'Montserrat', 'NorthAmerica', '0.00494399992749095', '15385.002991478228'], ['nic', 'Nicaragua', 'NorthAmerica', '5.737722873687744', '3992.7619078961748'], ['pan', 'Panama', 'NorthAmerica', '3.6432220935821533', '15055.237591848218'], ['slv', 'El Salvador', 'NorthAmerica', '6.164626121520996', '6096.958357099287'], ['tca', 'Turks and Caicos Islands', 'NorthAmerica', '0.030993999913334846', '7230.966074605446'], ['tto', 'Trinidad and Tobago', 'NorthAmerica', '1.3280999660491943', '27510.236190041924'], ['usa', 'United States', 'NorthAmerica', '308.6413879394531', '49500.62628346238'], ['vct', 'Saint Vincent and the Grenadines', 'NorthAmerica', '0.10931500047445297', '8095.21923068351'], ['vgb', 'British Virgin Islands', 'NorthAmerica', '0.027224000543355942', '21183.279165646647'], ['aus', 'Australia', 'Oceania', '22.12006378173828', '44854.90004866657'], ['fji', 'Fiji', 'Oceania', '0.8599500060081482', '6902.0687720944225'], ['nzl', 'New Zealand', 'Oceania', '4.370061874389648', '30867.05437525178'], ['arg', 'Argentina', 'SouthAmerica', '41.2238883972168', '15841.658208158999'], ['bol', 'Bolivia', 'SouthAmerica', '9.918242454528809', '4806.608983377068'], ['bra', 'Brazil', 'SouthAmerica', '196.7962646484375', '13541.462561602328'], ['chl', 'Chile', 'SouthAmerica', '16.99335479736328', '18092.94007371081']]\n"
     ]
    }
   ],
   "source": [
    "import csv\n",
    "\n",
    "raw = [] \n",
    "\n",
    "with open('cdata.csv') as csvfile:                  # Open the file\n",
    "    raw2 = csv.reader(csvfile, delimiter=',')       # Read the file splitting the words by commas \n",
    "    for index, value in enumerate(raw2):            # Loop to run the file, enumerate returns the index and the value\n",
    "        raw.append(value) if index != 0 else None   # Append to \"raw\" list all the rows in document except first one (column titles)\n",
    "print(raw)"
   ]
  },
  {
   "cell_type": "markdown",
   "metadata": {},
   "source": [
    "**13.1**: Create a dictionary called *cData* in which the key corresponds to the 3-digit ISO Code and the value is a tuple with the information contained in the 2nd to the 5th of column of the cdata file."
   ]
  },
  {
   "cell_type": "code",
   "execution_count": 99,
   "metadata": {},
   "outputs": [
    {
     "name": "stdout",
     "output_type": "stream",
     "text": [
      "{'ago': ('Angola', 'Africa', '23.369131088256836', '5988.534997149481'), 'bdi': ('Burundi', 'Africa', '8.766929626464844', '731.4232803265862'), 'ben': ('Benin', 'Africa', '9.199258804321289', '1919.9969479963038'), 'bfa': ('Burkina Faso', 'Africa', '15.605216979980469', '1327.2165314775982'), 'bwa': ('Botswana', 'Africa', '2.0148661136627197', '12256.14159052444'), 'caf': ('Central African Republic', 'Africa', '4.4485249519348145', '865.4421867263901'), 'cmr': ('Cameroon', 'Africa', '19.970495223999023', '2684.972890247272'), 'cod': ('Democratic Republic of the Congo', 'Africa', '64.52326202392578', '634.9713963013496'), 'cog': ('Republic of the Congo', 'Africa', '4.386693000793457', '4979.990496069269'), 'com': ('Comoros', 'Africa', '0.6896920204162598', '2292.997969425929'), 'cpv': ('Cape Verde', 'Africa', '0.5023840069770813', '5644.821253339075'), 'dji': ('Djibouti', 'Africa', '0.8511459827423096', '2124.4420625972525'), 'dza': ('Algeria', 'Africa', '36.117637634277344', '12590.224223813591'), 'egy': ('Egypt', 'Africa', '84.10760498046875', '9148.839753298033'), 'eth': ('Ethiopia', 'Africa', '87.70266723632812', '1100.1831875876223'), 'gab': ('Gabon', 'Africa', '1.6402100324630737', '11961.168226448879'), 'gha': ('Ghana', 'Africa', '24.512104034423828', '3931.2918319728856'), 'gin': ('Guinea', 'Africa', '10.794170379638672', '1742.7346742167783'), 'gmb': ('Gambia', 'Africa', '1.692149043083191', '2681.8586168502143'), 'gnb': ('Guinea-Bissau', 'Africa', '1.5558799505233765', '1387.2497310879905'), 'gnq': ('Equatorial Guinea', 'Africa', '0.9511039853096008', '31416.887137501908'), 'ken': ('Kenya', 'Africa', '41.35015106201172', '2484.0349094725366'), 'lbr': ('Liberia', 'Africa', '3.948124885559082', '786.6702306741524'), 'lso': ('Lesotho', 'Africa', '2.040550947189331', '2432.7976546880823'), 'mar': ('Morocco', 'Africa', '32.409637451171875', '6421.937677907418'), 'mdg': ('Madagascar', 'Africa', '21.151639938354492', '1459.9156124535612'), 'mli': ('Mali', 'Africa', '15.075084686279297', '1873.2809618195865'), 'moz': ('Mozambique', 'Africa', '24.221405029296875', '969.2307622526259'), 'mrt': ('Mauritania', 'Africa', '3.6095430850982666', '3082.647028528842'), 'mus': ('Mauritius', 'Africa', '1.2479549646377563', '15178.325920597827'), 'mwi': ('Malawi', 'Africa', '15.167095184326172', '972.0456815116237'), 'nam': ('Namibia', 'Africa', '2.1731700897216797', '7689.171239820006'), 'ner': ('Niger', 'Africa', '16.42557716369629', '845.8693682212395'), 'nga': ('Nigeria', 'Africa', '158.57826232910156', '5186.304307542348'), 'rwa': ('Rwanda', 'Africa', '10.246842384338379', '1379.6993252327009'), 'sdn': ('Sudan', 'Africa', '34.385963439941406', '3608.7856176907358'), 'sen': ('Senegal', 'Africa', '12.916229248046875', '2741.121456198507'), 'sle': ('Sierra Leone', 'Africa', '6.4587202072143555', '1161.8796942144647'), 'swz': ('Swaziland', 'Africa', '1.2028429508209229', '7042.524359035093'), 'syc': ('Seychelles', 'Africa', '0.0914049968123436', '17960.353075613308'), 'tcd': ('Chad', 'Africa', '11.887202262878418', '1880.3748762799714'), 'tgo': ('Togo', 'Africa', '6.5029520988464355', '1222.8150529133295'), 'tun': ('Tunisia', 'Africa', '10.639930725097656', '10647.834980284626'), 'tza': ('Tanzania', 'Africa', '44.82893753051758', '1979.1718644815185'), 'uga': ('Uganda', 'Africa', '33.91513442993164', '1723.5943355766267'), 'zaf': ('South Africa', 'Africa', '51.58466339111328', '11388.640515995063'), 'zmb': ('Zambia', 'Africa', '13.850032806396484', '2870.8872656342314'), 'zwe': ('Zimbabwe', 'Africa', '14.08631706237793', '1479.0305839163732'), 'are': ('United Arab Emirates', 'Asia', '8.270684242248535', '59707.412565389604'), 'arm': ('Armenia', 'Asia', '2.8773109912872314', '8222.945234202914'), 'aze': ('Azerbaijan', 'Asia', '9.03245735168457', '12947.102198682365'), 'bgd': ('Bangladesh', 'Asia', '152.14910888671875', '2411.1020691099325'), 'bhr': ('Bahrain', 'Asia', '1.2408620119094849', '37045.81310919623'), 'brn': ('Brunei', 'Asia', '0.3886620104312897', '67320.89957245934'), 'btn': ('Bhutan', 'Asia', '0.7276409864425659', '7235.18974818538'), 'chn': ('China', 'Asia', '1359.755126953125', '9337.290772677254'), 'cyp': ('Cyprus', 'Asia', '0.829446017742157', '28046.373877741087'), 'geo': ('Georgia', 'Asia', '4.231660842895508', '7966.602756952667'), 'hkg': ('Hong Kong', 'Asia', '7.02522087097168', '41687.946418899235'), 'ind': ('India', 'Asia', '1230.980712890625', '4357.0597360582315'), 'irn': ('Iran', 'Asia', '74.56751251220703', '17328.457882894658'), 'irq': ('Iraq', 'Asia', '30.7627010345459', '9344.543768350652'), 'isr': ('Israel', 'Asia', '7.42595911026001', '28638.9037385305'), 'jor': ('Jordan', 'Asia', '7.182390213012695', '9351.387283068141'), 'jpn': ('Japan', 'Asia', '128.5518798828125', '36595.63364058582'), 'kaz': ('Kazakhstan', 'Asia', '16.398975372314453', '17908.83993251286'), 'kgz': ('Kyrgyzstan', 'Asia', '5.422337055206299', '3382.4639059259293'), 'khm': ('Cambodia', 'Asia', '14.30873966217041', '2330.127207632253'), 'kor': ('South Korea', 'Asia', '49.5528564453125', '31589.705161145695'), 'kwt': ('Kuwait', 'Asia', '2.9980831146240234', '67029.51680017101'), 'lao': ('Laos', 'Asia', '6.246273994445801', '4316.969858587265'), 'lbn': ('Lebanon', 'Asia', '4.337141036987305', '18025.24893894264'), 'lka': ('Sri Lanka', 'Asia', '20.198352813720703', '8390.429701766443'), 'mac': ('Macau', 'Asia', '0.536969006061554', '91982.39517540816'), 'mdv': ('Maldives', 'Asia', '0.36451101303100586', '12140.803390739566'), 'mmr': ('Burma', 'Asia', '50.1558952331543', '3422.241340266976'), 'mng': ('Mongolia', 'Asia', '2.7126500606536865', '7670.714034382584'), 'mys': ('Malaysia', 'Asia', '28.112289428710938', '17913.164410782432'), 'npl': ('Nepal', 'Asia', '27.023136138916016', '1996.1961554516242'), 'omn': ('Oman', 'Asia', '3.0414600372314453', '40472.674942509126'), 'pak': ('Pakistan', 'Asia', '170.5601806640625', '4171.416562353057'), 'phl': ('Philippines', 'Asia', '93.72662353515625', '5391.233965240031'), 'qat': ('Qatar', 'Asia', '1.7796759605407715', '123128.40152283433'), 'sau': ('Saudi Arabia', 'Asia', '27.425676345825195', '42331.65885721999'), 'sgp': ('Singapore', 'Asia', '5.074252128601074', '58618.43503468222'), 'syr': ('Syria', 'Asia', '21.01883316040039', '5700.329438992399'), 'tha': ('Thailand', 'Asia', '67.20880889892578', '12496.244186726299'), 'tjk': ('Tajikistan', 'Asia', '7.641630172729492', '2784.5145587763627'), 'tkm': ('Turkmenistan', 'Asia', '5.087210178375244', '16061.429412691556'), 'tur': ('Turkey', 'Asia', '72.32691192626953', '17930.678781392427'), 'twn': ('Taiwan', 'Asia', '23.140947341918945', '37188.89452901009'), 'uzb': ('Uzbekistan', 'Asia', '28.606294631958008', '6574.51672506692'), 'vnm': ('Vietnam', 'Asia', '88.4725112915039', '4428.42140209062'), 'yem': ('Yemen', 'Asia', '23.606779098510742', '4553.557258443674'), 'alb': ('Albania', 'Europe', '2.9405250549316406', '9544.73991912729'), 'aut': ('Austria', 'Europe', '8.40994930267334', '40489.80635849457'), 'bel': ('Belgium', 'Europe', '10.938738822937012', '38177.94724875522'), 'bgr': ('Bulgaria', 'Europe', '7.404590129852295', '14906.784964031736'), 'bih': ('Bosnia and Herzegovina', 'Europe', '3.7220840454101562', '9049.364732987471'), 'blr': ('Belarus', 'Europe', '9.473071098327637', '16457.02937904922'), 'che': ('Switzerland', 'Europe', '7.831971168518066', '55688.020214268225'), 'cze': ('Czech Republic', 'Europe', '10.536286354064941', '26129.56935189834'), 'deu': ('Germany', 'Europe', '80.89478302001953', '40627.23054942445'), 'dnk': ('Denmark', 'Europe', '5.554843902587891', '43416.22338615916'), 'esp': ('Spain', 'Europe', '46.788631439208984', '31610.980157042286'), 'est': ('Estonia', 'Europe', '1.3321019411087036', '20265.572596704937'), 'fin': ('Finland', 'Europe', '5.365781784057617', '38394.06158150017'), 'fra': ('France', 'Europe', '65.14578247070312', '35786.16161450548'), 'gbr': ('United Kingdom', 'Europe', '63.30684280395508', '34810.28120173958'), 'grc': ('Greece', 'Europe', '11.446004867553711', '25815.80076797162'), 'hrv': ('Croatia', 'Europe', '4.328153133392334', '19305.008088868373'), 'hun': ('Hungary', 'Europe', '9.927840232849121', '20477.79856764035'), 'irl': ('Ireland', 'Europe', '4.626927852630615', '47823.50815113634'), 'isl': ('Iceland', 'Europe', '0.3203279972076416', '37729.01607603124'), 'ita': ('Italy', 'Europe', '59.72980880737305', '34727.67268834705'), 'ltu': ('Lithuania', 'Europe', '3.123802900314331', '18475.371145517096'), 'lux': ('Luxembourg', 'Europe', '0.5078889727592468', '57882.81020537233'), 'lva': ('Latvia', 'Europe', '2.1188480854034424', '16943.688322829523'), 'mda': ('Moldova', 'Europe', '4.0844807624816895', '4173.634753274572'), 'mkd': ('Macedonia', 'Europe', '2.0707390308380127', '11265.643175619889'), 'mlt': ('Malta', 'Europe', '0.41611000895500183', '22983.44992639125'), 'mne': ('Montenegro', 'Europe', '0.6242849826812744', '14960.94855221103'), 'nld': ('Netherlands', 'Europe', '16.68291664123535', '44004.146024770846'), 'nor': ('Norway', 'Europe', '4.885878086090088', '73262.68174170727'), 'pol': ('Poland', 'Europe', '38.323402404785156', '21006.027309294514'), 'prt': ('Portugal', 'Europe', '10.652320861816406', '25788.2739652247'), 'rou': ('Romania', 'Europe', '20.44034767150879', '16775.609043478133'), 'rus': ('Russia', 'Asia', '143.15386962890625', '21754.067899615977'), 'srb': ('Serbia', 'Europe', '7.291436195373535', '12453.482551916944'), 'svk': ('Slovakia', 'Europe', '5.404294013977051', '23061.12099058148'), 'svn': ('Slovenia', 'Europe', '2.045167922973633', '25831.33128718208'), 'swe': ('Sweden', 'Europe', '9.390168190002441', '40421.906436576974'), 'ukr': ('Ukraine', 'Europe', '45.79249954223633', '8713.259627419637'), 'abw': ('Aruba', 'NorthAmerica', '0.10166899859905243', '37059.34143869512'), 'aia': ('Anguilla', 'NorthAmerica', '0.013768999837338924', '21098.057152999143'), 'atg': ('Antigua and Barbuda', 'NorthAmerica', '0.09466099739074707', '17162.16102781353'), 'bhs': ('Bahamas', 'NorthAmerica', '0.36083200573921204', '29504.581346144332'), 'blz': ('Belize', 'NorthAmerica', '0.3216080069541931', '7145.952547655193'), 'bmu': ('Bermuda', 'NorthAmerica', '0.06395599991083145', '51447.147481910884'), 'brb': ('Barbados', 'NorthAmerica', '0.27956900000572205', '13995.612896540895'), 'can': ('Canada', 'NorthAmerica', '34.16866683959961', '40269.03526728651'), 'cri': ('Costa Rica', 'NorthAmerica', '4.5452799797058105', '12106.99191566891'), 'cuw': ('Curaçao', 'NorthAmerica', '0.14760799705982208', '24337.816177887613'), 'cym': ('Cayman Islands', 'NorthAmerica', '0.05550700053572655', '36670.678481483985'), 'dma': ('Dominica', 'NorthAmerica', '0.07143999636173248', '9101.993729581038'), 'dom': ('Dominican Republic', 'NorthAmerica', '9.897985458374023', '11500.13134401987'), 'grd': ('Grenada', 'NorthAmerica', '0.1046769991517067', '9791.291133092265'), 'gtm': ('Guatemala', 'NorthAmerica', '14.630416870117188', '6359.262684615136'), 'hnd': ('Honduras', 'NorthAmerica', '8.194778442382812', '3789.9102248753848'), 'hti': ('Haiti', 'NorthAmerica', '9.999616622924805', '1650.2697128700804'), 'jam': ('Jamaica', 'NorthAmerica', '2.8172099590301514', '6675.176956450172'), 'kna': ('Saint Kitts and Nevis', 'NorthAmerica', '0.05144499987363815', '17837.349758162076'), 'lca': ('Saint Lucia', 'NorthAmerica', '0.17258000373840332', '9178.266990673521'), 'mex': ('Mexico', 'NorthAmerica', '117.31893920898438', '14507.011923865603'), 'msr': ('Montserrat', 'NorthAmerica', '0.00494399992749095', '15385.002991478228'), 'nic': ('Nicaragua', 'NorthAmerica', '5.737722873687744', '3992.7619078961748'), 'pan': ('Panama', 'NorthAmerica', '3.6432220935821533', '15055.237591848218'), 'slv': ('El Salvador', 'NorthAmerica', '6.164626121520996', '6096.958357099287'), 'tca': ('Turks and Caicos Islands', 'NorthAmerica', '0.030993999913334846', '7230.966074605446'), 'tto': ('Trinidad and Tobago', 'NorthAmerica', '1.3280999660491943', '27510.236190041924'), 'usa': ('United States', 'NorthAmerica', '308.6413879394531', '49500.62628346238'), 'vct': ('Saint Vincent and the Grenadines', 'NorthAmerica', '0.10931500047445297', '8095.21923068351'), 'vgb': ('British Virgin Islands', 'NorthAmerica', '0.027224000543355942', '21183.279165646647'), 'aus': ('Australia', 'Oceania', '22.12006378173828', '44854.90004866657'), 'fji': ('Fiji', 'Oceania', '0.8599500060081482', '6902.0687720944225'), 'nzl': ('New Zealand', 'Oceania', '4.370061874389648', '30867.05437525178'), 'arg': ('Argentina', 'SouthAmerica', '41.2238883972168', '15841.658208158999'), 'bol': ('Bolivia', 'SouthAmerica', '9.918242454528809', '4806.608983377068'), 'bra': ('Brazil', 'SouthAmerica', '196.7962646484375', '13541.462561602328'), 'chl': ('Chile', 'SouthAmerica', '16.99335479736328', '18092.94007371081')}\n"
     ]
    }
   ],
   "source": [
    "cData = {}  # Creates the dictionary\n",
    "\n",
    "for row in raw:\n",
    "    iso_code = row[0] #Takes the first element of the first row\n",
    "    info_tuple = tuple(row[1:5]) #Create a tuple with the next four values in each row\n",
    "    \n",
    "    cData[iso_code] = info_tuple #Iso_code is the key in Cdata dictionary assigned to the values \n",
    "\n",
    "print(cData)\n"
   ]
  },
  {
   "cell_type": "markdown",
   "metadata": {},
   "source": [
    "**14**: Using *cData*, identify what is the most common Continent among the nations in the list *countries*."
   ]
  },
  {
   "cell_type": "code",
   "execution_count": 100,
   "metadata": {
    "scrolled": true
   },
   "outputs": [
    {
     "name": "stdout",
     "output_type": "stream",
     "text": [
      "Colombia was skipped as there is no data for it in cData.\n",
      "Nevada was skipped as there is no data for it in cData.\n",
      "['Europe', 'Asia']\n"
     ]
    }
   ],
   "source": [
    "cdata_countries = {}\n",
    "\n",
    "# for each row in cData (underscores are variables we don't care about)\n",
    "# add new key:value pair with the country name in lower case, followed by the continent of the respective country\n",
    "for country,continent,_,_ in cData.values():        \n",
    "    cdata_countries[country.lower()] = continent    \n",
    "    \n",
    "continents = []\n",
    "    \n",
    "# for each row in countries (underscores are variables we don't care about)\n",
    "# if the country exists in cdata_countries' keys (basically all countries in cData)\n",
    "# add the continent to the \"continents\" list, to be counted later\n",
    "\n",
    "for _, country_name, _ in countries:                                \n",
    "    if country_name.lower() in cdata_countries.keys():              \n",
    "        continents.append(cdata_countries[country_name.lower()])    \n",
    "    else:\n",
    "        print(country_name, 'was skipped as there is no data for it in cData.')\n",
    "\n",
    "\n",
    "continents_dict = {}\n",
    "\n",
    "for continent in continents:                 # for each continent in the \"continents\" list\n",
    "    if continent in continents_dict.keys():  # if the continent key already exists\n",
    "        continents_dict[continent] += 1      # increment the count by 1\n",
    "    else:                                    # if the continent key doesn't exist\n",
    "        continents_dict[continent] = 1       # initialize new key with count (value) as 1\n",
    "        \n",
    "max_continent_count = 0\n",
    "max_continent_name_list = []\n",
    "\n",
    "for continent, count in continents_dict.items():    # for each { continent: count } entry in the \"continents_dict\" dictionary\n",
    "    if count > max_continent_count:                 # if new continent count higher that previous highest count\n",
    "        max_continent_count = count                 # assign new continent count to new max count\n",
    "        max_continent_name_list = [continent]       # assign new continent name to list\n",
    "    elif count == max_continent_count:              # if new continent count equal to previous highest count\n",
    "        max_continent_name_list.append(continent)   # add current continent name to list\n",
    "\n",
    "if len(max_continent_name_list) == 1:   # if no draws between max_count continent\n",
    "    print(max_continent_name_list[0])   # print max count continent\n",
    "else:                                   # if more than one country with max count\n",
    "    print(max_continent_name_list)      # print whole list"
   ]
  },
  {
   "cell_type": "markdown",
   "metadata": {},
   "source": [
    "**15**: Using *cData*, identify what is the the most populated nation in the list *countries*."
   ]
  },
  {
   "cell_type": "code",
   "execution_count": 101,
   "metadata": {},
   "outputs": [
    {
     "name": "stdout",
     "output_type": "stream",
     "text": [
      "Russia\n"
     ]
    }
   ],
   "source": [
    "max_population = 0\n",
    "country_name_list = []    #Initilalizes the country name with an empty list\n",
    "\n",
    "for iso, _, _ in countries:                                   #Loop to run all ISO keys in dictionary\n",
    "    if iso.lower() in cData.keys(): \n",
    "        if float(cData[iso.lower()][2]) > max_population:     # We take only the third value (population) for each Key-Value pair in dictionary \n",
    "            max_population = float(cData[iso.lower()][2])     # If we find a higher population, replace the variable max_population with the new value\n",
    "            country_name_list = [cData[iso.lower()][0]]       # Replace the new biggest population country\n",
    "        elif float(cData[iso.lower()][2]) == max_population:  # If we find a country with same population as max_population\n",
    "            country_name_list.append(cData[iso.lower()][0])   # Add new country name to list\n",
    "\n",
    "if len(country_name_list) == 1:\n",
    "    print(country_name_list[0])\n",
    "else:\n",
    "    print(country_name_list)"
   ]
  },
  {
   "cell_type": "markdown",
   "metadata": {},
   "source": [
    "**16**: Compare the average GDP per capita of the nations in the list *countries* with the average GDP of the countries in cdata file. What can you conclude?"
   ]
  },
  {
   "cell_type": "code",
   "execution_count": 102,
   "metadata": {},
   "outputs": [
    {
     "name": "stdout",
     "output_type": "stream",
     "text": [
      "Country with ISO code COL was skipped as there is no data for it in cData.\n",
      "Country with ISO code NEV was skipped as there is no data for it in cData.\n",
      "Country with ISO code DEN was skipped as there is no data for it in cData.\n",
      "Average countries GDP: 39025.934664632994\n",
      "Average cData GDP: 18014.65454394603\n",
      "Countries have a higher average GDP than the whole dataset.\n"
     ]
    }
   ],
   "source": [
    "countries_gdp_sum = 0\n",
    "countries_count = 0\n",
    "\n",
    "for iso, _, _ in countries:                                     # for each row in countries (underscores are variables we don't care about)\n",
    "    if iso.lower() in cData.keys():                             # if iso code exists in cData\n",
    "        countries_gdp_sum += float(cData[iso.lower()][3])       # add country's GDP to sum\n",
    "        countries_count += 1                                    # increment count by 1\n",
    "    else:\n",
    "        print('Country with ISO code', iso, 'was skipped as there is no data for it in cData.')\n",
    "\n",
    "average_countries_gdp = countries_gdp_sum / countries_count\n",
    "\n",
    "cdata_gdp = 0\n",
    "cdata_count = 0\n",
    "\n",
    "for _, _, _, gdp in cData.values():     # for each row in cData values (underscores are variables we don't care about)\n",
    "    cdata_gdp += float(gdp)             # add country's GDP to sum\n",
    "    cdata_count += 1                    # increment count by 1\n",
    "\n",
    "average_cdata_gdp = cdata_gdp / cdata_count\n",
    "\n",
    "if average_countries_gdp > average_cdata_gdp:\n",
    "    print('Average countries GDP:', average_countries_gdp)\n",
    "    print('Average cData GDP:', average_cdata_gdp)\n",
    "    print('Countries have a higher average GDP than the whole dataset.')\n",
    "elif average_countries_gdp < average_cdata_gdp:\n",
    "    print('Average countries GDP:', average_countries_gdp)\n",
    "    print('Average cData GDP:', average_cdata_gdp)\n",
    "    print('Countries have a lower average GDP than the whole dataset.')\n",
    "else:\n",
    "    print('Average countries GDP:', average_countries_gdp)\n",
    "    print('Average cData GDP:', average_cdata_gdp)\n",
    "    print('Countries and dataset have the same GDP')"
   ]
  },
  {
   "cell_type": "markdown",
   "metadata": {},
   "source": [
    "# <span style=\"color:brown\"> Part 3 - Functions hurt nobody </span>\n",
    "\n",
    "## Exercise I - I hate math\n",
    "\n",
    "##### Consider the following equation:\n",
    "\n",
    "\\begin{equation}\n",
    "    y = 6x^2 + 3x + 2\n",
    "\\end{equation}\n",
    "\n",
    "**17**: Write a function called *f* that takes one argument, x, and returns y according to the equation above. "
   ]
  },
  {
   "cell_type": "code",
   "execution_count": 103,
   "metadata": {},
   "outputs": [],
   "source": [
    "# (**) is used for powers\n",
    "def equation(x):\n",
    "    return 6*(x**2) + 3*x + 2"
   ]
  },
  {
   "cell_type": "markdown",
   "metadata": {},
   "source": [
    "**17.1**: Call the function for x = 2 and print the answer."
   ]
  },
  {
   "cell_type": "code",
   "execution_count": 104,
   "metadata": {},
   "outputs": [
    {
     "name": "stdout",
     "output_type": "stream",
     "text": [
      "32\n"
     ]
    }
   ],
   "source": [
    "print(equation(2))"
   ]
  },
  {
   "cell_type": "markdown",
   "metadata": {},
   "source": [
    "##### Consider the following sequence of numbers:\n",
    "\n",
    "\\begin{equation}\n",
    "    x_0 = 0; ~~~ ~~~ ~~~ ~~ ~~~ ~~~ ~~~ ~~~ ~~~ ~~~ ~~~ ~~ ~~~ ~~~ ~~~ ~~ ~~~ ~~~ ~~~ ~~ ~ ~~~ ~~~ ~~~ ~~ ~~~ ~~~ ~~~ ~~ ~~~ ~~~ ~~~ ~~ ~~~ ~~~ ~~~ ~~ \\\\\n",
    "    x_{n} = x_{n-1} - n; ~~~ \\textit{ if} ~~~ x_{n-1}-n > 0 ~~~ \\textit{ and is not already in the sequence}\\\\\n",
    "    x_{n} = x_{n-1} + n; ~~~ \\textit{ otherwise} ~~~ ~~~ ~~~ ~~~ ~~ ~~~ ~~~ ~~~ ~~~ ~~~ ~ ~~~ ~~~ ~~~ ~~~ ~~~ ~~~ ~ ~~~ ~~~ ~~~~ ~~~ ~~~ ~~~ ~ \\\\\n",
    "\\end{equation}\n",
    "\n",
    "**17.2**: Write a function that returns the nth digit of the above defined sequence. <br>\n",
    "\n",
    "*Note: the above sequence is also known as the Recamán's sequence, and it was invnted by Bernardo Recamán Santos (Bogotá, Colombia)*"
   ]
  },
  {
   "cell_type": "code",
   "execution_count": 105,
   "metadata": {},
   "outputs": [
    {
     "name": "stdout",
     "output_type": "stream",
     "text": [
      "Recaman [ 0 ] = 0\n",
      "Recaman [ 1 ] = 1\n",
      "Recaman [ 2 ] = 3\n",
      "Recaman [ 3 ] = 6\n",
      "Recaman [ 4 ] = 2\n"
     ]
    }
   ],
   "source": [
    "def recamanSequence(n):\n",
    "    if type(n) != int:                                                        # if parameter provided is not of type int\n",
    "        return 'The Recaman sequence only accepts integers'\n",
    "    elif n < 0:                                                               # if parameter provided less than 0\n",
    "        return 'The Recaman sequence only accepts numbers higher or equal to 0'\n",
    "    tempList = [0]\n",
    "    for number in range(1, n+1):        # create an iterable object starting at one until n (range doesn't count the last argument introduced)\n",
    "        if tempList[number-1] - number > 0 and tempList[number-1] - number not in tempList:     # recaman conditions\n",
    "            tempList.append(tempList[number-1] - number)\n",
    "        else:\n",
    "            tempList.append(tempList[number-1] + number)\n",
    "    return tempList[-1]                                                        # return last element of list created\n",
    "\n",
    "for number in range(5):\n",
    "    print('Recaman [', number, '] =', recamanSequence(number))                 # print first 5 elements of recaman sequence"
   ]
  },
  {
   "cell_type": "markdown",
   "metadata": {},
   "source": [
    "**17.3** Write a function named isPrime that takes an integer as input and outputs True if the number is prime and False if the number if not prime."
   ]
  },
  {
   "cell_type": "code",
   "execution_count": 106,
   "metadata": {},
   "outputs": [],
   "source": [
    "def isPrime(num):\n",
    "    \n",
    "    if num <= 1:      #We not considering 1 prime\n",
    "        return(False)\n",
    "    \n",
    "    #loop checking if the number is divisible to all numbers until num-1\n",
    "    for i in range(2, num): \n",
    "        if num % i == 0:\n",
    "            return False\n",
    "        \n",
    "    return True    # If there's no divisor the num is prime"
   ]
  },
  {
   "cell_type": "markdown",
   "metadata": {},
   "source": [
    "**17.4** Test your function against some examples to show that it works as expected."
   ]
  },
  {
   "cell_type": "code",
   "execution_count": 107,
   "metadata": {},
   "outputs": [
    {
     "name": "stdout",
     "output_type": "stream",
     "text": [
      "Is 7 prime? True\n",
      "Is 10 prime? False\n",
      "Is 13 prime? True\n",
      "Is 1 prime? False\n"
     ]
    }
   ],
   "source": [
    "print('Is 7 prime?', isPrime(7))\n",
    "print('Is 10 prime?', isPrime(10))\n",
    "print('Is 13 prime?', isPrime(13))\n",
    "print('Is 1 prime?', isPrime(1))"
   ]
  },
  {
   "cell_type": "markdown",
   "metadata": {},
   "source": [
    "## Exercise II - Monty Hall Problem\n"
   ]
  },
  {
   "cell_type": "markdown",
   "metadata": {},
   "source": [
    "**18**: The Monty Hall Problem is a probability puzzle loosely based on the American television game show \"Let's Make a Deal\" and named after its original host, Monty Hall. The puzzle can be stated as follows\n",
    "\n",
    "> Suppose you're on a game show, and you're given the choice of three doors: Behind one door is a car; behind the others, goats. You pick a door, say No. 1, and the host, who knows what's behind the doors, opens another door, say No. 3, which has a goat. He then says to you, \"Do you want to pick door No. 2?\" Is it to your advantage to switch your choice? <br>\n",
    "+info: https://en.wikipedia.org/wiki/Monty_Hall_problem\n",
    "\n",
    "While intuitively your guess might be that the chances of winning the car is 1/3 independently of the choice to switch doors or not. Howewver, the odds of winning if you switch doors are 2/3 and greater than if you decide not to switch. While there are theoretical solutions to this problem that allow us to estimate the correct odds of winning in each scenario -- switching or not doors -- an alternative way to proof such outcome is through computer simulations. That is the goal of this exercise, to write the necessary components to simulate the Monty Hall problem and validate the theoretical results through simulations.\n",
    "\n",
    "In this exercise, start by implementing a function that simulates one instance of the Monty Hall problem. \n",
    "In that sense, write a function called MontyHall that accepts **one argument**:\n",
    "- A boolean (True/False, or 1/0) that specifies if the player switches doors or not (after the host has opened his door, which contains a goat).\n",
    "The function should return True if the player wins the car or False if not.\n",
    "\n",
    "Naturally, for the function to reproduce the contest it needs to consider and perform some actions, such as:\n",
    "- Set up the game, that is, create the necessary variables to store the information about three doors and what they have behind, as well as an indicator to track the choice of the player.\n",
    "- Given the initial choice of the player, simulate the opening of one of the two remaining doors that contains a goat.\n",
    "- Given the last two doors left, simulate if the player wants to switch or not his/her choice given their strategy (defined by the input boolean argument of the function).\n",
    "- Output the result, if the contestant correctly guesses which door hides the car or if not.\n",
    "\n",
    "The function MontyHall should simulate one instance of the contest given the choice of the player (to switch or not).\n",
    "\n",
    "**The goal is to understand, statistically, which action leads to the highest probability of winning.** <br>\n",
    "*Note: You should use the library random to solve this exercise.*"
   ]
  },
  {
   "cell_type": "code",
   "execution_count": 108,
   "metadata": {},
   "outputs": [
    {
     "data": {
      "text/plain": [
       "'car'"
      ]
     },
     "execution_count": 108,
     "metadata": {},
     "output_type": "execute_result"
    }
   ],
   "source": [
    "import random\n",
    "\n",
    "def MontyHall(switch):\n",
    "    player_choice = random.randint(1,3)  # choose a random number between 1 and 3 (for the door number) to simulate player's choice\n",
    "\n",
    "    doors = [                        # initialize a list with 3 elements with the following fields:\n",
    "        {                            #   - door number\n",
    "            'door': 1,               #   - is door opened\n",
    "            'opened': False,         #   - content behind door\n",
    "            'content': 'goat'\n",
    "        },\n",
    "        {\n",
    "            'door': 2,\n",
    "            'opened': False,\n",
    "            'content': 'goat'\n",
    "        },\n",
    "        {\n",
    "            'door': 3,\n",
    "            'opened': False,\n",
    "            'content': 'goat'\n",
    "        }\n",
    "    ]\n",
    "\n",
    "    car_idx = random.randint(0,len(doors) - 1)        # choose random number between 0 and (length of \"doors\" list - 1) to randomly add the car\n",
    "    doors[car_idx]['content'] = 'car'                 # change door content to contain car\n",
    "\n",
    "    host_goat_possibilities = []\n",
    "    for i in range(len(doors)):                       # calculate all doors that host can open\n",
    "        host_goat_possibilities.append(i) if i != car_idx and i != player_choice - 1 else None \n",
    "        # door needs to contain goat and cannot be the door chose by the player\n",
    "\n",
    "    first_choice = random.randint(0,len(host_goat_possibilities) - 1) # randomly choose one of the doors from possible choices\n",
    "\n",
    "    doors[host_goat_possibilities[first_choice]]['opened'] = True     # change door status to 'opened'\n",
    "\n",
    "    if switch:                                                        # if player decides to switch\n",
    "        for door in doors:\n",
    "            if door['opened'] == False and door['door'] != player_choice: # get door content that is not opened and that is not the player's initial choice\n",
    "                return door['content']\n",
    "    else:                                                                 # if player decides not to switch\n",
    "        return doors[player_choice - 1]['content']                        # get door content chosen by player\n",
    "\n",
    "MontyHall(True)"
   ]
  },
  {
   "cell_type": "markdown",
   "metadata": {},
   "source": [
    "**18.1** Now that you have a function that simulates an instance of the Monty Hall problem, implement an experiment where you repeat many times (thousands of times) for each of the two possible scenarios: player switching the door, and player not switcing the door. Keep track of the results and estimate the frequencies of wins for each scenario and discuss if the results are inline with the theoretical odds."
   ]
  },
  {
   "cell_type": "code",
   "execution_count": 109,
   "metadata": {},
   "outputs": [
    {
     "name": "stdout",
     "output_type": "stream",
     "text": [
      "Switching: 3402 goats and 6598 cars. Winning percentage: 65.98 %\n",
      "Not switching: 6591 goats and 3409 cars. Winning percentage: 34.09 %\n"
     ]
    }
   ],
   "source": [
    "switching_goats = 0\n",
    "switching_cars = 0\n",
    "\n",
    "# run MontyHall with switching = true 10.000 times\n",
    "for i in range(10000):             \n",
    "    if MontyHall(True) == 'goat':\n",
    "        switching_goats += 1\n",
    "    else:\n",
    "        switching_cars += 1\n",
    "\n",
    "not_switching_goats = 0\n",
    "not_switching_cars = 0\n",
    "\n",
    "# run MontyHall with switching = false 10.000 times\n",
    "for i in range(10000): \n",
    "    if MontyHall(False) == 'goat':           \n",
    "        not_switching_goats += 1\n",
    "    else:\n",
    "        not_switching_cars += 1\n",
    "\n",
    "print('Switching:', switching_goats, 'goats and', switching_cars, 'cars. Winning percentage:', round(switching_cars / (switching_cars + switching_goats) * 100, 2), '%')\n",
    "print('Not switching:', not_switching_goats, 'goats and', not_switching_cars, 'cars. Winning percentage:', round(not_switching_cars / (not_switching_cars + not_switching_goats) * 100, 2), '%')"
   ]
  },
  {
   "cell_type": "markdown",
   "metadata": {},
   "source": [
    "## Exercise III\n",
    "\n",
    "**19**: Consider the list *A*, declared below. <br>\n",
    "Use the function map() to change the values of A by adding 1 to each value if it is even and subtracting 1 to it otherwise."
   ]
  },
  {
   "cell_type": "code",
   "execution_count": 110,
   "metadata": {},
   "outputs": [],
   "source": [
    "A = [460,3347,3044,490,699,1258,1804,973,2223,3416,2879,1058,2915,2422,351,1543,1020,208,643,795,3337,2585,471,2623,1077]"
   ]
  },
  {
   "cell_type": "code",
   "execution_count": 111,
   "metadata": {},
   "outputs": [
    {
     "name": "stdout",
     "output_type": "stream",
     "text": [
      "[461, 3346, 3045, 491, 698, 1259, 1805, 972, 2222, 3417, 2878, 1059, 2914, 2423, 350, 1542, 1021, 209, 642, 794, 3336, 2584, 470, 2622, 1076]\n"
     ]
    }
   ],
   "source": [
    "# Map function to implememt lambda function to each element in list A; \n",
    "# if the number is even we increment it by 1, else we subtract it to 1\n",
    "# Lambda function means an anonymous function (without a name)\n",
    "print(list(map(lambda x: x + 1 if x % 2 == 0 else x - 1, A)))"
   ]
  },
  {
   "cell_type": "markdown",
   "metadata": {},
   "source": [
    "**20**: Create a list B with the same size of A, where each element is True if the associated value in list A is greater than 700, else is False."
   ]
  },
  {
   "cell_type": "code",
   "execution_count": 112,
   "metadata": {},
   "outputs": [
    {
     "name": "stdout",
     "output_type": "stream",
     "text": [
      "[False, True, True, False, False, True, True, True, True, True, True, True, True, True, False, True, True, False, False, True, True, True, False, True, True]\n",
      "Length of A: 25\n",
      "Length of B: 25\n"
     ]
    }
   ],
   "source": [
    "# Apply the same tecnhique using map and lambda to iterate over all elements in A,\n",
    "#  so we don't need to create a new function\n",
    "# We check all of list A. If the number is > 700 we return True else we return False \n",
    "B = list(map(lambda x: True if x > 700 else False, A))\n",
    "print(B)\n",
    "print('Length of A:', len(A))\n",
    "print('Length of B:', len(B))"
   ]
  },
  {
   "cell_type": "markdown",
   "metadata": {},
   "source": [
    "**21**: Create a list L that contains the Logarithm of base 10 of each value in A. <br>\n",
    "\n",
    "*Note: You should use the module math to solve this exercise.*"
   ]
  },
  {
   "cell_type": "code",
   "execution_count": 113,
   "metadata": {},
   "outputs": [
    {
     "name": "stdout",
     "output_type": "stream",
     "text": [
      "[2.662757831681574, 3.5246557123577773, 3.4834446480985353, 2.690196080028514, 2.8444771757456815, 3.09968064110925, 3.256236533205923, 2.988112840268352, 3.3469394626989906, 3.5335178620169674, 3.459241664878082, 3.024485667699167, 3.464638559095033, 3.3841741388070337, 2.545307116465824, 3.188365926063148, 3.0086001717619175, 2.3180633349627615, 2.808210972924222, 2.9003671286564705, 3.5233562066547925, 3.412460547429961, 2.673020907128896, 3.4187982905903533, 3.0322157032979815]\n"
     ]
    }
   ],
   "source": [
    "import math # Provides us acess to mathematical functions\n",
    "\n",
    "# math.log10(x) calculates the logarithm of base 10 \n",
    "L = list(map(lambda x: math.log10(x), A)) \n",
    "print(L)"
   ]
  },
  {
   "cell_type": "markdown",
   "metadata": {},
   "source": [
    "**22**: How many numbers in A are greater than 1000? <br>\n",
    "\n",
    "*Note: You should use the function filter().*"
   ]
  },
  {
   "cell_type": "code",
   "execution_count": 114,
   "metadata": {},
   "outputs": [
    {
     "name": "stdout",
     "output_type": "stream",
     "text": [
      "16\n"
     ]
    }
   ],
   "source": [
    "# Use filter to keep only the numbers > 1000 in A\n",
    "# We then store those numbers in a list and we check the length\n",
    "result = len(list(filter(lambda x: x > 1000, A)))\n",
    "print(result)"
   ]
  },
  {
   "cell_type": "markdown",
   "metadata": {},
   "source": [
    "**23** Use the function isPrime, that you declared in 17.3, to identify which numbers from A are prime. Note that depending on your implementation of isPrime this task can take more or less time. Use filter to achieve this task."
   ]
  },
  {
   "cell_type": "code",
   "execution_count": 115,
   "metadata": {},
   "outputs": [
    {
     "name": "stdout",
     "output_type": "stream",
     "text": [
      "[3347, 2879, 1543, 643]\n"
     ]
    }
   ],
   "source": [
    "# As in the previous exercise we use filter to keep the numbers which are prime, \n",
    "# and store them in a new list called prime_nums\n",
    "prime_nums = list(filter(lambda x: isPrime(x), A)) \n",
    "print(prime_nums)"
   ]
  },
  {
   "cell_type": "markdown",
   "metadata": {},
   "source": [
    "### Congratulations, it is done!"
   ]
  },
  {
   "cell_type": "markdown",
   "metadata": {},
   "source": [
    "![LEO_GOOD_JOB](https://www.idlememe.com/wp-content/uploads/2022/01/good-job-meme-idlememe-3.jpg)"
   ]
  },
  {
   "cell_type": "code",
   "execution_count": null,
   "metadata": {},
   "outputs": [],
   "source": []
  }
 ],
 "metadata": {
  "kernelspec": {
   "display_name": "Python 3 (ipykernel)",
   "language": "python",
   "name": "python3"
  },
  "language_info": {
   "codemirror_mode": {
    "name": "ipython",
    "version": 3
   },
   "file_extension": ".py",
   "mimetype": "text/x-python",
   "name": "python",
   "nbconvert_exporter": "python",
   "pygments_lexer": "ipython3",
   "version": "3.11.4"
  }
 },
 "nbformat": 4,
 "nbformat_minor": 2
}
